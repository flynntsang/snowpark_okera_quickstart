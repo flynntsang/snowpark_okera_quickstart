{
 "cells": [
  {
   "cell_type": "markdown",
   "id": "3fb274bb",
   "metadata": {},
   "source": [
    "setup information goes here"
   ]
  }
 ],
 "metadata": {
  "kernelspec": {
   "display_name": "okera_privacy_aware_ml",
   "language": "python",
   "name": "okera_privacy_aware_ml"
  },
  "language_info": {
   "codemirror_mode": {
    "name": "ipython",
    "version": 3
   },
   "file_extension": ".py",
   "mimetype": "text/x-python",
   "name": "python",
   "nbconvert_exporter": "python",
   "pygments_lexer": "ipython3",
   "version": "3.8.13"
  }
 },
 "nbformat": 4,
 "nbformat_minor": 5
}

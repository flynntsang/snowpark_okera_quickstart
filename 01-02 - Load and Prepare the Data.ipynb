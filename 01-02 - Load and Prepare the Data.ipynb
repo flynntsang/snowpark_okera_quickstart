{
 "cells": [
  {
   "cell_type": "markdown",
   "id": "201cb702",
   "metadata": {},
   "source": [
    "# 01 - Load Demo Data into Snowflake"
   ]
  },
  {
   "cell_type": "code",
   "execution_count": 1,
   "id": "7e722126",
   "metadata": {},
   "outputs": [
    {
     "name": "stdout",
     "output_type": "stream",
     "text": [
      "(0, 7, 0)\n"
     ]
    }
   ],
   "source": [
    "from snowflake.snowpark.session import Session\n",
    "from snowflake.snowpark import version\n",
    "import json\n",
    "print(version.VERSION)"
   ]
  },
  {
   "cell_type": "code",
   "execution_count": 2,
   "id": "971fbf46",
   "metadata": {},
   "outputs": [],
   "source": [
    "snowflake_session_prop = json.load(open('session.json'))"
   ]
  },
  {
   "cell_type": "code",
   "execution_count": 3,
   "id": "15611a8f",
   "metadata": {},
   "outputs": [
    {
     "name": "stdout",
     "output_type": "stream",
     "text": [
      "[Row(CURRENT_WAREHOUSE()='COMPUTE_WH', CURRENT_DATABASE()='SNOWPARK_OKERA_QUICKSTART', CURRENT_SCHEMA()='MEDICAL')]\n"
     ]
    }
   ],
   "source": [
    "session = Session.builder.configs(snowflake_session_prop).create()\n",
    "session.sql(\"use role accountadmin\").collect()\n",
    "session.sql(\"create database if not exists  {}\".format(snowflake_session_prop['database'])).collect()\n",
    "session.sql(\"use database {}\".format(snowflake_session_prop['database'])).collect()\n",
    "session.sql(\"create schema if not exists {}\".format(snowflake_session_prop['schema'])).collect()\n",
    "session.sql(\"use schema {}\".format(snowflake_session_prop['schema'])).collect()\n",
    "# session.sql(\"create or replace warehouse {} with \\\n",
    "#                 WAREHOUSE_SIZE = XSMALL \\\n",
    "#                 AUTO_SUSPEND = 120 \\\n",
    "#                 AUTO_RESUME = TRUE\".format(snowflake_session_prop['warehouse'])).collect()\n",
    "session.sql(\"use warehouse {}\".format(snowflake_session_prop['warehouse']))\n",
    "print(session.sql('select current_warehouse(), current_database(), current_schema()').collect())"
   ]
  },
  {
   "cell_type": "code",
   "execution_count": 4,
   "id": "99d0193b",
   "metadata": {},
   "outputs": [],
   "source": [
    "filename = \"costs-per-customer.csv\"\n",
    "stagename = \"MEDICAL_COSTS_STAGE\""
   ]
  },
  {
   "cell_type": "code",
   "execution_count": 5,
   "id": "4f905ae2",
   "metadata": {},
   "outputs": [
    {
     "data": {
      "text/plain": [
       "[Row(status='Table COSTS successfully created.')]"
      ]
     },
     "execution_count": 5,
     "metadata": {},
     "output_type": "execute_result"
    }
   ],
   "source": [
    "session.sql(f\"create or replace table COSTS ( \\\n",
    "        id integer, \\\n",
    "        age integer, \\\n",
    "        sex string, \\\n",
    "        bmi number (10,1), \\\n",
    "        children integer, \\\n",
    "        smoker string, \\\n",
    "        region string, \\\n",
    "        costs number (10,2), \\\n",
    "        phone string, \\\n",
    "        recordnum int, \\\n",
    "        optout integer);\").collect()"
   ]
  },
  {
   "cell_type": "code",
   "execution_count": 6,
   "id": "f88c6f1a",
   "metadata": {},
   "outputs": [
    {
     "data": {
      "text/plain": [
       "[Row(status='File format MYCSVFORMAT successfully created.')]"
      ]
     },
     "execution_count": 6,
     "metadata": {},
     "output_type": "execute_result"
    }
   ],
   "source": [
    "# Create stage objects\n",
    "session.sql(f\"create or replace file format mycsvformat type = 'CSV' skip_header = 1;\").collect()"
   ]
  },
  {
   "cell_type": "code",
   "execution_count": 7,
   "id": "a3a917c5",
   "metadata": {},
   "outputs": [
    {
     "data": {
      "text/plain": [
       "[PutResult(source='costs-per-customer.csv', target='costs-per-customer.csv.gz', source_size=76151, target_size=29696, source_compression='NONE', target_compression='GZIP', status='UPLOADED', message='')]"
      ]
     },
     "execution_count": 7,
     "metadata": {},
     "output_type": "execute_result"
    }
   ],
   "source": [
    "# Stage the data files\n",
    "session.sql(f\"create or replace stage {stagename} file_format = mycsvformat DIRECTORY = (ENABLE = TRUE);\").collect()\n",
    "session.file.put(filename,stagename)"
   ]
  },
  {
   "cell_type": "code",
   "execution_count": 8,
   "id": "646b4365",
   "metadata": {},
   "outputs": [
    {
     "data": {
      "text/plain": [
       "[Row(name='medical_costs_stage/costs-per-customer.csv.gz', size=29696, md5='254b11cc6657eaf34828830be740133e', last_modified='Mon, 4 Jul 2022 22:14:25 GMT')]"
      ]
     },
     "execution_count": 8,
     "metadata": {},
     "output_type": "execute_result"
    }
   ],
   "source": [
    "# List the staged files\n",
    "session.sql(f\"list @{stagename};\").collect()"
   ]
  },
  {
   "cell_type": "code",
   "execution_count": 9,
   "id": "fcc0ba33",
   "metadata": {
    "scrolled": false
   },
   "outputs": [
    {
     "data": {
      "text/plain": [
       "[Row(file='medical_costs_stage/costs-per-customer.csv.gz', status='LOADED', rows_parsed=1338, rows_loaded=1338, error_limit=1, errors_seen=0, first_error=None, first_error_line=None, first_error_character=None, first_error_column_name=None)]"
      ]
     },
     "execution_count": 9,
     "metadata": {},
     "output_type": "execute_result"
    }
   ],
   "source": [
    "session.sql(f\"copy into COSTS from @{stagename}/{filename}.gz file_format = (format_name = mycsvformat) on_error = 'skip_file';\").collect()"
   ]
  },
  {
   "cell_type": "markdown",
   "id": "6081230e",
   "metadata": {},
   "source": [
    "# 02 - Lightweight Feature Engineering"
   ]
  },
  {
   "cell_type": "code",
   "execution_count": 10,
   "id": "bd01205a",
   "metadata": {},
   "outputs": [],
   "source": [
    "from snowflake.snowpark.functions import col,array_construct\n",
    "\n",
    "import pandas as pd\n",
    "import sklearn\n",
    "from sklearn.preprocessing import LabelEncoder\n",
    "\n",
    "# misc\n",
    "import json"
   ]
  },
  {
   "cell_type": "code",
   "execution_count": 11,
   "id": "b9027a05",
   "metadata": {
    "scrolled": true
   },
   "outputs": [
    {
     "name": "stdout",
     "output_type": "stream",
     "text": [
      "Row count after filtering opt-out     :  1256\n",
      "--------------------------------------------------------------------------------------------------------------------\n",
      "|\"ID\"  |\"AGE\"  |\"SEX\"   |\"BMI\"  |\"CHILDREN\"  |\"SMOKER\"  |\"REGION\"  |\"COSTS\"   |\"PHONE\"    |\"RECORDNUM\"  |\"OPTOUT\"  |\n",
      "--------------------------------------------------------------------------------------------------------------------\n",
      "|0     |19     |female  |27.9   |0           |yes       |EMEA      |16884.92  |447686636  |8681199      |0         |\n",
      "|1     |18     |male    |33.8   |1           |no        |EMEA      |1725.55   |437519962  |4379756      |0         |\n",
      "|2     |28     |male    |33.0   |3           |no        |EMEA      |4449.46   |381988151  |9786757      |0         |\n",
      "|3     |33     |male    |22.7   |0           |no        |NA        |21984.47  |556619672  |8164839      |0         |\n",
      "|4     |32     |male    |28.9   |0           |no        |NA        |3866.86   |497874796  |7341375      |0         |\n",
      "|5     |31     |female  |25.7   |0           |no        |EMEA      |3756.62   |694661676  |2464579      |0         |\n",
      "|6     |46     |female  |33.4   |1           |no        |EMEA      |8240.59   |287986942  |7197378      |0         |\n",
      "|7     |37     |female  |27.7   |3           |no        |NA        |7281.51   |492191699  |6753893      |0         |\n",
      "|8     |37     |male    |29.8   |2           |no        |NA        |6406.41   |358875513  |7719973      |0         |\n",
      "|9     |60     |female  |25.8   |0           |no        |NA        |28923.14  |598198178  |5165384      |0         |\n",
      "--------------------------------------------------------------------------------------------------------------------\n",
      "\n"
     ]
    }
   ],
   "source": [
    "# Filter out data where the customer has chosen to opt out\n",
    "snow_df_costs = session.table('COSTS').filter(col('OPTOUT') != 1)\n",
    "\n",
    "print('Row count after filtering opt-out     : ',snow_df_costs.count())\n",
    "snow_df_costs.show()"
   ]
  },
  {
   "cell_type": "code",
   "execution_count": 12,
   "id": "9c653e46",
   "metadata": {},
   "outputs": [
    {
     "name": "stdout",
     "output_type": "stream",
     "text": [
      "Intermediate dataframe                :  1256\n",
      "------------------------------------------------------------------------\n",
      "|\"AGE\"  |\"SEX\"   |\"BMI\"  |\"CHILDREN\"  |\"SMOKER\"  |\"REGION\"  |\"COSTS\"   |\n",
      "------------------------------------------------------------------------\n",
      "|19     |female  |27.9   |0           |yes       |EMEA      |16884.92  |\n",
      "|18     |male    |33.8   |1           |no        |EMEA      |1725.55   |\n",
      "|28     |male    |33.0   |3           |no        |EMEA      |4449.46   |\n",
      "|33     |male    |22.7   |0           |no        |NA        |21984.47  |\n",
      "|32     |male    |28.9   |0           |no        |NA        |3866.86   |\n",
      "|31     |female  |25.7   |0           |no        |EMEA      |3756.62   |\n",
      "|46     |female  |33.4   |1           |no        |EMEA      |8240.59   |\n",
      "|37     |female  |27.7   |3           |no        |NA        |7281.51   |\n",
      "|37     |male    |29.8   |2           |no        |NA        |6406.41   |\n",
      "|60     |female  |25.8   |0           |no        |NA        |28923.14  |\n",
      "------------------------------------------------------------------------\n",
      "\n"
     ]
    }
   ],
   "source": [
    "# Drop rows with missing values if any\n",
    "snow_df_costs = snow_df_costs.dropna()\n",
    "\n",
    "# Exclude columns we don't need for the model\n",
    "snow_df_costs = snow_df_costs.drop(['OPTOUT', 'ID', 'RECORDNUM','PHONE'])\n",
    "\n",
    "# Show intermediate transformed dataframe\n",
    "print('Intermediate dataframe                : ',snow_df_costs.count())\n",
    "snow_df_costs.show()"
   ]
  },
  {
   "cell_type": "code",
   "execution_count": 13,
   "id": "c3138d2e",
   "metadata": {},
   "outputs": [
    {
     "name": "stdout",
     "output_type": "stream",
     "text": [
      "Dataframe shape -   rows, columns     :  (1256, 7)\n"
     ]
    },
    {
     "data": {
      "text/html": [
       "<div>\n",
       "<style scoped>\n",
       "    .dataframe tbody tr th:only-of-type {\n",
       "        vertical-align: middle;\n",
       "    }\n",
       "\n",
       "    .dataframe tbody tr th {\n",
       "        vertical-align: top;\n",
       "    }\n",
       "\n",
       "    .dataframe thead th {\n",
       "        text-align: right;\n",
       "    }\n",
       "</style>\n",
       "<table border=\"1\" class=\"dataframe\">\n",
       "  <thead>\n",
       "    <tr style=\"text-align: right;\">\n",
       "      <th></th>\n",
       "      <th>AGE</th>\n",
       "      <th>SEX</th>\n",
       "      <th>BMI</th>\n",
       "      <th>CHILDREN</th>\n",
       "      <th>SMOKER</th>\n",
       "      <th>REGION</th>\n",
       "      <th>COSTS</th>\n",
       "    </tr>\n",
       "  </thead>\n",
       "  <tbody>\n",
       "    <tr>\n",
       "      <th>0</th>\n",
       "      <td>19</td>\n",
       "      <td>0</td>\n",
       "      <td>27.9</td>\n",
       "      <td>0</td>\n",
       "      <td>1</td>\n",
       "      <td>0</td>\n",
       "      <td>16884.92</td>\n",
       "    </tr>\n",
       "    <tr>\n",
       "      <th>1</th>\n",
       "      <td>18</td>\n",
       "      <td>1</td>\n",
       "      <td>33.8</td>\n",
       "      <td>1</td>\n",
       "      <td>0</td>\n",
       "      <td>0</td>\n",
       "      <td>1725.55</td>\n",
       "    </tr>\n",
       "    <tr>\n",
       "      <th>2</th>\n",
       "      <td>28</td>\n",
       "      <td>1</td>\n",
       "      <td>33.0</td>\n",
       "      <td>3</td>\n",
       "      <td>0</td>\n",
       "      <td>0</td>\n",
       "      <td>4449.46</td>\n",
       "    </tr>\n",
       "    <tr>\n",
       "      <th>3</th>\n",
       "      <td>33</td>\n",
       "      <td>1</td>\n",
       "      <td>22.7</td>\n",
       "      <td>0</td>\n",
       "      <td>0</td>\n",
       "      <td>1</td>\n",
       "      <td>21984.47</td>\n",
       "    </tr>\n",
       "    <tr>\n",
       "      <th>4</th>\n",
       "      <td>32</td>\n",
       "      <td>1</td>\n",
       "      <td>28.9</td>\n",
       "      <td>0</td>\n",
       "      <td>0</td>\n",
       "      <td>1</td>\n",
       "      <td>3866.86</td>\n",
       "    </tr>\n",
       "  </tbody>\n",
       "</table>\n",
       "</div>"
      ],
      "text/plain": [
       "   AGE  SEX   BMI  CHILDREN  SMOKER  REGION     COSTS\n",
       "0   19    0  27.9         0       1       0  16884.92\n",
       "1   18    1  33.8         1       0       0   1725.55\n",
       "2   28    1  33.0         3       0       0   4449.46\n",
       "3   33    1  22.7         0       0       1  21984.47\n",
       "4   32    1  28.9         0       0       1   3866.86"
      ]
     },
     "execution_count": 13,
     "metadata": {},
     "output_type": "execute_result"
    }
   ],
   "source": [
    "# Load the Snowpark dataframe into Pandas for further processing\n",
    "pd_df = snow_df_costs.to_pandas()\n",
    "\n",
    "# Use sklearn.preprocessing.LabelEncoder to convert categorical data to numbers\n",
    "# Example: transforms no | yes to 0 | 1\n",
    "\n",
    "le = LabelEncoder()\n",
    "\n",
    "pd_df['SEX'] = le.fit_transform(pd_df['SEX'])\n",
    "pd_df['SMOKER'] = le.fit_transform(pd_df['SMOKER'])\n",
    "pd_df['REGION'] = le.fit_transform(pd_df['REGION'])\n",
    "\n",
    "# Show final dataframe\n",
    "print('Dataframe shape -   rows, columns     : ', pd_df.shape)\n",
    "pd_df.head()"
   ]
  },
  {
   "cell_type": "code",
   "execution_count": 14,
   "id": "3b018fbc",
   "metadata": {},
   "outputs": [],
   "source": [
    "# Convert Pandas dataframe to Snowpark dataframe\n",
    "snow_df_costs = session.create_dataframe(pd.DataFrame(pd_df))"
   ]
  },
  {
   "cell_type": "code",
   "execution_count": 15,
   "id": "90bc150c",
   "metadata": {},
   "outputs": [],
   "source": [
    "# Save training data in Snowflake table\n",
    "snow_df_costs.write.mode(\"overwrite\").save_as_table(\"COSTS_TRAINING\")"
   ]
  }
 ],
 "metadata": {
  "kernelspec": {
   "display_name": "snowpark_okera_quickstart",
   "language": "python",
   "name": "snowpark_okera_quickstart"
  },
  "language_info": {
   "codemirror_mode": {
    "name": "ipython",
    "version": 3
   },
   "file_extension": ".py",
   "mimetype": "text/x-python",
   "name": "python",
   "nbconvert_exporter": "python",
   "pygments_lexer": "ipython3",
   "version": "3.8.13"
  }
 },
 "nbformat": 4,
 "nbformat_minor": 5
}

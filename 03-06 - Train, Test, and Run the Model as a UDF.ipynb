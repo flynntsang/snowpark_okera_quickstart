{
 "cells": [
  {
   "cell_type": "markdown",
   "id": "19f7295b",
   "metadata": {},
   "source": [
    "# 03 - Confirm Connection to Snowflake"
   ]
  },
  {
   "cell_type": "markdown",
   "id": "12fc9f7f",
   "metadata": {},
   "source": [
    "### Import Dependencies"
   ]
  },
  {
   "cell_type": "code",
   "execution_count": 1,
   "id": "1e2f16fb",
   "metadata": {},
   "outputs": [],
   "source": [
    "# Snowflake Snowpark\n",
    "from snowflake.snowpark.session import Session\n",
    "from snowflake.snowpark.types import IntegerType, StringType, StructType, FloatType, StructField, Variant\n",
    "from snowflake.snowpark.functions import col, array_construct, udf, call_udf\n",
    "from snowflake.snowpark.version import VERSION\n",
    "\n",
    "# misc\n",
    "import json"
   ]
  },
  {
   "cell_type": "markdown",
   "id": "f4fee444",
   "metadata": {},
   "source": [
    "### Establish Secure Connection to Snowflake"
   ]
  },
  {
   "cell_type": "code",
   "execution_count": 2,
   "id": "bdca8ba8",
   "metadata": {
    "scrolled": false
   },
   "outputs": [
    {
     "name": "stdout",
     "output_type": "stream",
     "text": [
      "Warehouse                   : COMPUTE_WH\n",
      "Database                    : SNOWPARK_OKERA_QUICKSTART\n",
      "Schema                      : MEDICAL\n",
      "Snowflake version           : 6.22.0\n",
      "Snowpark for Python version : 0.7.0\n"
     ]
    }
   ],
   "source": [
    "# Create Snowflake Session object\n",
    "snowflake_session_prop = json.load(open('session.json'))\n",
    "session = Session.builder.configs(snowflake_session_prop).create() \n",
    "\n",
    "snowflake_environment = session.sql('select current_warehouse(), current_database(), current_schema(), current_version()').collect()\n",
    "snowpark_version = VERSION\n",
    "\n",
    "# Current Environment Details\n",
    "print('Warehouse                   : {}'.format(snowflake_environment[0][0]))\n",
    "print('Database                    : {}'.format(snowflake_environment[0][1]))\n",
    "print('Schema                      : {}'.format(snowflake_environment[0][2]))\n",
    "print('Snowflake version           : {}'.format(snowflake_environment[0][3]))\n",
    "print('Snowpark for Python version : {}.{}.{}'.format(snowpark_version[0],snowpark_version[1],snowpark_version[2]))\n"
   ]
  },
  {
   "cell_type": "markdown",
   "id": "faba071b",
   "metadata": {},
   "source": [
    "# 04 - Train the Model in Snowflake using Snowpark"
   ]
  },
  {
   "cell_type": "markdown",
   "id": "d0a65274",
   "metadata": {},
   "source": [
    "### Create a Function to Train the Model\n",
    "\n",
    "For the purposes of this Quickstart, we'll use a linear regression model."
   ]
  },
  {
   "cell_type": "code",
   "execution_count": 4,
   "id": "a4b6d6f1",
   "metadata": {},
   "outputs": [],
   "source": [
    "def train_costs_prediction_model(session: Session, features_table: str) -> Variant:\n",
    "    import pandas as pd\n",
    "    import numpy as np\n",
    "    import sklearn\n",
    "    from sklearn.linear_model import LinearRegression\n",
    "    from sklearn.metrics import mean_squared_error, r2_score\n",
    "    from sklearn.model_selection import train_test_split\n",
    "\n",
    "    import os\n",
    "    from joblib import dump\n",
    "    \n",
    "    # Load features from an existing table\n",
    "    df = session.table(features_table).to_pandas()\n",
    "\n",
    "    # Specify the feature inputs X and target output y\n",
    "    X = df.drop('COSTS', axis = 1) \n",
    "    y = df['COSTS']\n",
    "\n",
    "    # Split the data into training and testing\n",
    "    X_train, X_test, y_train, y_test = train_test_split(X, y, shuffle=True, train_size=0.3)\n",
    "\n",
    "    # Create a linear regression model\n",
    "    model = LinearRegression()\n",
    "    model.fit(X_train, y_train)\n",
    "    \n",
    "    # Save the model to disk then upload to Snowflake stage\n",
    "    model_output_dir = '/tmp'\n",
    "    model_file = os.path.join(model_output_dir, 'model.joblib')\n",
    "    dump(model, model_file)\n",
    "    session.file.put(model_file, 'MEDICAL_COSTS_STAGE', overwrite=True)\n",
    "    \n",
    "    # Return the model R2 score\n",
    "    return {\"R2 on training data \": r2_score(y_train, model.predict(X_train)), \"R2 on test data     \": r2_score(y_test, model.predict(X_test))}"
   ]
  },
  {
   "cell_type": "markdown",
   "id": "f5f4b96e",
   "metadata": {},
   "source": [
    "### Test the Training Function"
   ]
  },
  {
   "cell_type": "code",
   "execution_count": 5,
   "id": "31b4c9f9",
   "metadata": {
    "scrolled": false
   },
   "outputs": [
    {
     "data": {
      "text/plain": [
       "{'R2 on training data ': 0.7186327516482559,\n",
       " 'R2 on test data     ': 0.7647974429033425}"
      ]
     },
     "execution_count": 5,
     "metadata": {},
     "output_type": "execute_result"
    }
   ],
   "source": [
    "# Call the training function to train and test the model\n",
    "train_costs_prediction_model(session,'COSTS_TRAINING')"
   ]
  },
  {
   "cell_type": "markdown",
   "id": "be700568",
   "metadata": {},
   "source": [
    "### Create Stored Procedure to Deploy the Training Function to Snowflake"
   ]
  },
  {
   "cell_type": "code",
   "execution_count": 6,
   "id": "3f7617c8",
   "metadata": {},
   "outputs": [
    {
     "data": {
      "text/plain": [
       "<snowflake.snowpark.stored_procedure.StoredProcedure at 0x7ff664600b50>"
      ]
     },
     "execution_count": 6,
     "metadata": {},
     "output_type": "execute_result"
    }
   ],
   "source": [
    "# Simply run this stored procedure to retrain the model as new data is added\n",
    "session.sproc.register(func=train_costs_prediction_model,\n",
    "                       name=\"train_costs_prediction_model\",\n",
    "                       packages=['snowflake-snowpark-python','pandas','numpy','scikit-learn','joblib'],\n",
    "                       is_permanent=True,\n",
    "                       stage_location='@MEDICAL_COSTS_STAGE',\n",
    "                       replace=True)\n",
    "                       "
   ]
  },
  {
   "cell_type": "markdown",
   "id": "106d663a",
   "metadata": {},
   "source": [
    "### Execute the Newly Created Stored Procedure to Train the Model in Snowflake "
   ]
  },
  {
   "cell_type": "code",
   "execution_count": 7,
   "id": "3250b646",
   "metadata": {},
   "outputs": [
    {
     "name": "stdout",
     "output_type": "stream",
     "text": [
      "{\n",
      "  \"R2 on test data     \": 0.7469180206446722,\n",
      "  \"R2 on training data \": 0.7638595131782806\n",
      "}\n"
     ]
    }
   ],
   "source": [
    "print(session.call('train_costs_prediction_model','COSTS_TRAINING'))"
   ]
  },
  {
   "cell_type": "markdown",
   "id": "d2d8e4c0",
   "metadata": {},
   "source": [
    "# 05 - Create a User-Defined Function (UDF)"
   ]
  },
  {
   "cell_type": "code",
   "execution_count": 8,
   "id": "4dba01c9",
   "metadata": {},
   "outputs": [],
   "source": [
    "session.clear_imports()\n",
    "session.clear_packages()\n",
    "\n",
    "# Add trained model as dependency\n",
    "session.add_import('@MEDICAL_COSTS_STAGE/model.joblib.gz')\n",
    "session.add_packages(\"scikit-learn\",\"pandas\",\"numpy\")\n",
    "    \n",
    "@udf(name='predict_costs',\n",
    "     session=session,\n",
    "     packages=['pandas','joblib','scikit-learn'],\n",
    "     replace=True,\n",
    "     is_permanent=True,\n",
    "     stage_location='@MEDICAL_COSTS_STAGE')\n",
    "def predict_costs(patient_attributes: list) -> float:\n",
    "    import sys\n",
    "    import pandas as pd\n",
    "    from joblib import load\n",
    "    \n",
    "    IMPORT_DIRECTORY_NAME = \"snowflake_import_directory\"\n",
    "    import_dir = sys._xoptions[IMPORT_DIRECTORY_NAME]\n",
    "    \n",
    "    model_file = import_dir + 'model.joblib.gz'\n",
    "    model = load(model_file)\n",
    "            \n",
    "    features = ['AGE','BMI','SEX','CHILDREN','SMOKER','REGION']\n",
    "    df = pd.DataFrame([patient_attributes], columns=features)\n",
    "\n",
    "    predicted_costs = model.predict(df)[0]\n",
    "    return predicted_costs"
   ]
  },
  {
   "cell_type": "markdown",
   "id": "bb400d98",
   "metadata": {},
   "source": [
    "# 06 - Call User-Defined Function on Training Table"
   ]
  },
  {
   "cell_type": "markdown",
   "id": "cb132029",
   "metadata": {},
   "source": [
    "### In Python:"
   ]
  },
  {
   "cell_type": "code",
   "execution_count": 9,
   "id": "7d8f7fc5",
   "metadata": {},
   "outputs": [
    {
     "name": "stdout",
     "output_type": "stream",
     "text": [
      "--------------------------------------------------------------------------------------------\n",
      "|\"AGE\"  |\"SEX\"  |\"BMI\"  |\"CHILDREN\"  |\"SMOKER\"  |\"REGION\"  |\"COSTS\"   |\"PREDICTED_COSTS\"   |\n",
      "--------------------------------------------------------------------------------------------\n",
      "|64     |0      |30.1   |3           |0         |1         |16455.71  |10091.637833690973  |\n",
      "|64     |0      |39.1   |3           |0         |0         |16085.13  |10498.085463876225  |\n",
      "|39     |1      |28.3   |1           |1         |0         |21082.16  |26024.726033615076  |\n",
      "|50     |1      |25.4   |2           |0         |1         |30284.64  |5963.588690117689   |\n",
      "|35     |0      |23.5   |2           |0         |1         |6402.29   |1672.8857194214816  |\n",
      "--------------------------------------------------------------------------------------------\n",
      "\n"
     ]
    }
   ],
   "source": [
    "test_df = session.table('COSTS_TRAINING').sample(n=5)\n",
    "\n",
    "test_df.select (\"*\", \\\n",
    "                 call_udf(\"predict_costs\", array_construct( \\\n",
    "                                            col(\"AGE\"), \\\n",
    "                                            col(\"BMI\"), \\\n",
    "                                            col(\"SEX\"), \\\n",
    "                                            col(\"CHILDREN\"), \\\n",
    "                                            col(\"SMOKER\"), \\\n",
    "                                            col(\"REGION\")))\\\n",
    "                 .as_(\"predicted_costs\")).show()\n"
   ]
  },
  {
   "cell_type": "markdown",
   "id": "24c460a0",
   "metadata": {},
   "source": [
    "### In Snowflake Worksheets as SQL:"
   ]
  },
  {
   "cell_type": "markdown",
   "id": "4c01ae22",
   "metadata": {},
   "source": [
    "Switch to Snowflake Worksheets and enter the following SQL query to call the model as UDF `predict_costs`.\n",
    "\n",
    "``` SQL\n",
    "select *, \n",
    "    ROUND(predict_costs([AGE,BMI,SEX,CHILDREN,SMOKER,REGION]), 2) as PREDICTED_COSTS, \n",
    "    ROUND(PREDICTED_COSTS - COSTS, 2) as DIFFERENCE\n",
    "    from costs_TRAINING \n",
    "    order by DIFFERENCE DESC;\n",
    "```\n",
    "\n",
    "![show the UDF in a SQL statement in Worksheets](assets/okera_snowpark_udf_predict_sql.png \"Go to Worksheets and run the model as a UDF in SQL\")\n"
   ]
  },
  {
   "cell_type": "code",
   "execution_count": null,
   "id": "f5510c33",
   "metadata": {},
   "outputs": [],
   "source": []
  }
 ],
 "metadata": {
  "kernelspec": {
   "display_name": "snowpark_okera_quickstart",
   "language": "python",
   "name": "snowpark_okera_quickstart"
  },
  "language_info": {
   "codemirror_mode": {
    "name": "ipython",
    "version": 3
   },
   "file_extension": ".py",
   "mimetype": "text/x-python",
   "name": "python",
   "nbconvert_exporter": "python",
   "pygments_lexer": "ipython3",
   "version": "3.8.13"
  }
 },
 "nbformat": 4,
 "nbformat_minor": 5
}
